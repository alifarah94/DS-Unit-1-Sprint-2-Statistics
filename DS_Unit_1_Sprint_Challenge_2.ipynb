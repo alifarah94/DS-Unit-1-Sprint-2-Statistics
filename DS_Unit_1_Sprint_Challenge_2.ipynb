{
  "nbformat": 4,
  "nbformat_minor": 0,
  "metadata": {
    "colab": {
      "name": "DS_Unit_1_Sprint_Challenge_2.ipynb",
      "provenance": [],
      "collapsed_sections": [],
      "include_colab_link": true
    },
    "kernelspec": {
      "name": "python3",
      "display_name": "Python 3"
    }
  },
  "cells": [
    {
      "cell_type": "markdown",
      "metadata": {
        "id": "view-in-github",
        "colab_type": "text"
      },
      "source": [
        "<a href=\"https://colab.research.google.com/github/alifarah94/DS-Unit-1-Sprint-2-Statistics/blob/master/DS_Unit_1_Sprint_Challenge_2.ipynb\" target=\"_parent\"><img src=\"https://colab.research.google.com/assets/colab-badge.svg\" alt=\"Open In Colab\"/></a>"
      ]
    },
    {
      "cell_type": "markdown",
      "metadata": {
        "id": "NooAiTdnafkz",
        "colab_type": "text"
      },
      "source": [
        "# Data Science Unit 1 Sprint Challenge 2\n",
        "\n",
        "## Exploring Data, Testing Hypotheses\n",
        "\n",
        "In this sprint challenge you will look at a dataset of people being approved or rejected for credit.\n",
        "\n",
        "https://archive.ics.uci.edu/ml/datasets/Credit+Approval\n",
        "\n",
        "Data Set Information: This file concerns credit card applications. All attribute names and values have been changed to meaningless symbols to protect confidentiality of the data. This dataset is interesting because there is a good mix of attributes -- continuous, nominal with small numbers of values, and nominal with larger numbers of values. There are also a few missing values.\n",
        "\n",
        "Attribute Information:\n",
        "- A1: b, a.\n",
        "- A2: continuous.\n",
        "- A3: continuous.\n",
        "- A4: u, y, l, t.\n",
        "- A5: g, p, gg.\n",
        "- A6: c, d, cc, i, j, k, m, r, q, w, x, e, aa, ff.\n",
        "- A7: v, h, bb, j, n, z, dd, ff, o.\n",
        "- A8: continuous.\n",
        "- A9: t, f.\n",
        "- A10: t, f.\n",
        "- A11: continuous.\n",
        "- A12: t, f.\n",
        "- A13: g, p, s.\n",
        "- A14: continuous.\n",
        "- A15: continuous.\n",
        "- A16: +,- (class attribute)\n",
        "\n",
        "Yes, most of that doesn't mean anything. A16 is a variable that indicates whether or not a person's request for credit has been approved or denied. This is a good candidate for a y variable since we might want to use the other features to predict this one. The remaining variables have been obfuscated for privacy - a challenge you may have to deal with in your data science career.\n",
        "\n",
        "Sprint challenges are evaluated based on satisfactory completion of each part. It is suggested you work through it in order, getting each aspect reasonably working, before trying to deeply explore, iterate, or refine any given step. Once you get to the end, if you want to go back and improve things, go for it!"
      ]
    },
    {
      "cell_type": "markdown",
      "metadata": {
        "id": "5wch6ksCbJtZ",
        "colab_type": "text"
      },
      "source": [
        "## Part 1 - Load and validate the data\n",
        "\n",
        "- Load the data as a `pandas` data frame.\n",
        "- Validate that it has the appropriate number of observations (you can check the raw file, and also read the dataset description from UCI).\n",
        "- UCI says there should be missing data - check, and if necessary change the data so pandas recognizes it as na\n",
        "- Make sure that the loaded features are of the types described above (continuous values should be treated as float), and correct as necessary\n",
        "\n",
        "This is review, but skills that you'll use at the start of any data exploration. Further, you may have to do some investigation to figure out which file to load from - that is part of the puzzle.\n",
        "\n",
        "Hint: If a column has the datatype of \"object\" even though it's made up of float or integer values, you can coerce it to act as a numeric column by using the `pd.to_numeric()` function."
      ]
    },
    {
      "cell_type": "code",
      "metadata": {
        "id": "C1iSgMyHX8ll",
        "colab_type": "code",
        "colab": {}
      },
      "source": [
        "import pandas as pd\n",
        "import numpy as np\n",
        "from scipy import stats\n",
        "import seaborn as sns\n",
        "import matplotlib.pyplot as plt\n",
        "from scipy.stats import ttest_ind"
      ],
      "execution_count": 0,
      "outputs": []
    },
    {
      "cell_type": "code",
      "metadata": {
        "id": "Q79xDLckzibS",
        "colab_type": "code",
        "colab": {}
      },
      "source": [
        "# TODO\n",
        "\n",
        "names = ['A1','A2','A3','A4','A5','A6','A7','A8','A9','A10','A11','A12','A13','A14','A15','A16']\n",
        "df = pd.read_csv('https://archive.ics.uci.edu/ml/machine-learning-databases/credit-screening/crx.data', header=None,names=names)"
      ],
      "execution_count": 0,
      "outputs": []
    },
    {
      "cell_type": "code",
      "metadata": {
        "id": "DM0xm9sYb5bO",
        "colab_type": "code",
        "outputId": "21daad55-1b80-4a7a-ca5b-d7b14dc4985a",
        "colab": {
          "base_uri": "https://localhost:8080/",
          "height": 297
        }
      },
      "source": [
        "df.isnull().sum() # dataframe has no null values\n",
        "df.describe()"
      ],
      "execution_count": 0,
      "outputs": [
        {
          "output_type": "execute_result",
          "data": {
            "text/html": [
              "<div>\n",
              "<style scoped>\n",
              "    .dataframe tbody tr th:only-of-type {\n",
              "        vertical-align: middle;\n",
              "    }\n",
              "\n",
              "    .dataframe tbody tr th {\n",
              "        vertical-align: top;\n",
              "    }\n",
              "\n",
              "    .dataframe thead th {\n",
              "        text-align: right;\n",
              "    }\n",
              "</style>\n",
              "<table border=\"1\" class=\"dataframe\">\n",
              "  <thead>\n",
              "    <tr style=\"text-align: right;\">\n",
              "      <th></th>\n",
              "      <th>A3</th>\n",
              "      <th>A8</th>\n",
              "      <th>A11</th>\n",
              "      <th>A15</th>\n",
              "    </tr>\n",
              "  </thead>\n",
              "  <tbody>\n",
              "    <tr>\n",
              "      <th>count</th>\n",
              "      <td>690.000000</td>\n",
              "      <td>690.000000</td>\n",
              "      <td>690.00000</td>\n",
              "      <td>690.000000</td>\n",
              "    </tr>\n",
              "    <tr>\n",
              "      <th>mean</th>\n",
              "      <td>4.758725</td>\n",
              "      <td>2.223406</td>\n",
              "      <td>2.40000</td>\n",
              "      <td>1017.385507</td>\n",
              "    </tr>\n",
              "    <tr>\n",
              "      <th>std</th>\n",
              "      <td>4.978163</td>\n",
              "      <td>3.346513</td>\n",
              "      <td>4.86294</td>\n",
              "      <td>5210.102598</td>\n",
              "    </tr>\n",
              "    <tr>\n",
              "      <th>min</th>\n",
              "      <td>0.000000</td>\n",
              "      <td>0.000000</td>\n",
              "      <td>0.00000</td>\n",
              "      <td>0.000000</td>\n",
              "    </tr>\n",
              "    <tr>\n",
              "      <th>25%</th>\n",
              "      <td>1.000000</td>\n",
              "      <td>0.165000</td>\n",
              "      <td>0.00000</td>\n",
              "      <td>0.000000</td>\n",
              "    </tr>\n",
              "    <tr>\n",
              "      <th>50%</th>\n",
              "      <td>2.750000</td>\n",
              "      <td>1.000000</td>\n",
              "      <td>0.00000</td>\n",
              "      <td>5.000000</td>\n",
              "    </tr>\n",
              "    <tr>\n",
              "      <th>75%</th>\n",
              "      <td>7.207500</td>\n",
              "      <td>2.625000</td>\n",
              "      <td>3.00000</td>\n",
              "      <td>395.500000</td>\n",
              "    </tr>\n",
              "    <tr>\n",
              "      <th>max</th>\n",
              "      <td>28.000000</td>\n",
              "      <td>28.500000</td>\n",
              "      <td>67.00000</td>\n",
              "      <td>100000.000000</td>\n",
              "    </tr>\n",
              "  </tbody>\n",
              "</table>\n",
              "</div>"
            ],
            "text/plain": [
              "               A3          A8        A11            A15\n",
              "count  690.000000  690.000000  690.00000     690.000000\n",
              "mean     4.758725    2.223406    2.40000    1017.385507\n",
              "std      4.978163    3.346513    4.86294    5210.102598\n",
              "min      0.000000    0.000000    0.00000       0.000000\n",
              "25%      1.000000    0.165000    0.00000       0.000000\n",
              "50%      2.750000    1.000000    0.00000       5.000000\n",
              "75%      7.207500    2.625000    3.00000     395.500000\n",
              "max     28.000000   28.500000   67.00000  100000.000000"
            ]
          },
          "metadata": {
            "tags": []
          },
          "execution_count": 79
        }
      ]
    },
    {
      "cell_type": "code",
      "metadata": {
        "id": "aSrKs6sicqOm",
        "colab_type": "code",
        "outputId": "ba27ee39-1f6b-4e40-fa2a-f9d5f3eec446",
        "colab": {
          "base_uri": "https://localhost:8080/",
          "height": 1000
        }
      },
      "source": [
        "for i in names:\n",
        "  print(df[i].value_counts(), '\\n')\n",
        " \n",
        "\"\"\"looking throught the data i can see that there are question marks through out the dataset,\n",
        "I think its ok to leave most of them the way they are but I will be replacing the question marks in A2\"\"\" "
      ],
      "execution_count": 0,
      "outputs": [
        {
          "output_type": "stream",
          "text": [
            "b    468\n",
            "a    210\n",
            "?     12\n",
            "Name: A1, dtype: int64 \n",
            "\n",
            "?        12\n",
            "22.67     9\n",
            "20.42     7\n",
            "22.50     6\n",
            "23.58     6\n",
            "25.00     6\n",
            "24.50     6\n",
            "19.17     6\n",
            "18.83     6\n",
            "20.67     6\n",
            "23.08     5\n",
            "23.25     5\n",
            "23.00     5\n",
            "33.17     5\n",
            "27.67     5\n",
            "27.83     5\n",
            "26.17     4\n",
            "26.67     4\n",
            "29.50     4\n",
            "22.92     4\n",
            "24.75     4\n",
            "41.17     4\n",
            "34.17     4\n",
            "25.17     4\n",
            "22.08     4\n",
            "35.17     4\n",
            "23.50     4\n",
            "32.33     4\n",
            "27.25     4\n",
            "25.67     4\n",
            "         ..\n",
            "74.83     1\n",
            "17.25     1\n",
            "42.17     1\n",
            "17.50     1\n",
            "38.42     1\n",
            "32.17     1\n",
            "60.08     1\n",
            "46.08     1\n",
            "30.00     1\n",
            "36.08     1\n",
            "57.83     1\n",
            "73.42     1\n",
            "17.83     1\n",
            "48.33     1\n",
            "33.92     1\n",
            "36.42     1\n",
            "31.00     1\n",
            "30.25     1\n",
            "30.08     1\n",
            "49.83     1\n",
            "59.50     1\n",
            "39.42     1\n",
            "52.33     1\n",
            "54.33     1\n",
            "80.25     1\n",
            "30.83     1\n",
            "21.42     1\n",
            "30.42     1\n",
            "45.17     1\n",
            "29.92     1\n",
            "Name: A2, Length: 350, dtype: int64 \n",
            "\n",
            "1.500     21\n",
            "0.000     19\n",
            "3.000     19\n",
            "2.500     19\n",
            "1.250     16\n",
            "0.750     16\n",
            "0.500     15\n",
            "5.000     14\n",
            "4.000     12\n",
            "1.750     12\n",
            "6.500     12\n",
            "2.000     10\n",
            "10.000    10\n",
            "1.000     10\n",
            "0.585     10\n",
            "0.375      9\n",
            "11.000     9\n",
            "3.500      8\n",
            "0.540      8\n",
            "7.000      8\n",
            "12.500     8\n",
            "0.835      8\n",
            "0.165      8\n",
            "11.500     8\n",
            "5.500      8\n",
            "9.000      7\n",
            "2.750      7\n",
            "4.250      6\n",
            "15.000     6\n",
            "1.540      6\n",
            "          ..\n",
            "0.960      1\n",
            "8.125      1\n",
            "12.330     1\n",
            "9.170      1\n",
            "6.625      1\n",
            "16.000     1\n",
            "25.125     1\n",
            "13.585     1\n",
            "9.790      1\n",
            "1.415      1\n",
            "8.460      1\n",
            "0.710      1\n",
            "14.585     1\n",
            "5.415      1\n",
            "11.835     1\n",
            "2.125      1\n",
            "9.625      1\n",
            "4.915      1\n",
            "13.750     1\n",
            "21.000     1\n",
            "12.335     1\n",
            "21.500     1\n",
            "11.125     1\n",
            "12.625     1\n",
            "2.665      1\n",
            "12.125     1\n",
            "13.915     1\n",
            "22.000     1\n",
            "12.835     1\n",
            "10.915     1\n",
            "Name: A3, Length: 215, dtype: int64 \n",
            "\n",
            "u    519\n",
            "y    163\n",
            "?      6\n",
            "l      2\n",
            "Name: A4, dtype: int64 \n",
            "\n",
            "g     519\n",
            "p     163\n",
            "?       6\n",
            "gg      2\n",
            "Name: A5, dtype: int64 \n",
            "\n",
            "c     137\n",
            "q      78\n",
            "w      64\n",
            "i      59\n",
            "aa     54\n",
            "ff     53\n",
            "k      51\n",
            "cc     41\n",
            "m      38\n",
            "x      38\n",
            "d      30\n",
            "e      25\n",
            "j      10\n",
            "?       9\n",
            "r       3\n",
            "Name: A6, dtype: int64 \n",
            "\n",
            "v     399\n",
            "h     138\n",
            "bb     59\n",
            "ff     57\n",
            "?       9\n",
            "j       8\n",
            "z       8\n",
            "dd      6\n",
            "n       4\n",
            "o       2\n",
            "Name: A7, dtype: int64 \n",
            "\n",
            "0.000     70\n",
            "0.250     35\n",
            "0.040     33\n",
            "1.000     31\n",
            "0.125     30\n",
            "0.500     28\n",
            "0.085     26\n",
            "1.500     25\n",
            "0.165     22\n",
            "2.500     17\n",
            "2.000     16\n",
            "1.750     15\n",
            "5.000     13\n",
            "3.500     12\n",
            "0.290     12\n",
            "0.750     12\n",
            "3.000     11\n",
            "2.250     10\n",
            "1.250     10\n",
            "0.415      8\n",
            "4.000      8\n",
            "5.500      7\n",
            "0.375      7\n",
            "0.665      6\n",
            "1.085      6\n",
            "0.540      6\n",
            "4.500      6\n",
            "6.500      6\n",
            "0.210      6\n",
            "0.585      6\n",
            "          ..\n",
            "2.790      1\n",
            "5.665      1\n",
            "3.170      1\n",
            "4.580      1\n",
            "8.290      1\n",
            "4.290      1\n",
            "0.795      1\n",
            "2.335      1\n",
            "0.710      1\n",
            "7.960      1\n",
            "5.125      1\n",
            "15.500     1\n",
            "18.000     1\n",
            "4.625      1\n",
            "6.750      1\n",
            "1.875      1\n",
            "16.000     1\n",
            "3.335      1\n",
            "2.460      1\n",
            "2.125      1\n",
            "17.500     1\n",
            "3.125      1\n",
            "4.335      1\n",
            "5.165      1\n",
            "1.960      1\n",
            "3.960      1\n",
            "2.040      1\n",
            "1.040      1\n",
            "4.165      1\n",
            "5.375      1\n",
            "Name: A8, Length: 132, dtype: int64 \n",
            "\n",
            "t    361\n",
            "f    329\n",
            "Name: A9, dtype: int64 \n",
            "\n",
            "f    395\n",
            "t    295\n",
            "Name: A10, dtype: int64 \n",
            "\n",
            "0     395\n",
            "1      71\n",
            "2      45\n",
            "3      28\n",
            "6      23\n",
            "11     19\n",
            "5      18\n",
            "7      16\n",
            "4      15\n",
            "8      10\n",
            "9      10\n",
            "14      8\n",
            "12      8\n",
            "10      8\n",
            "15      4\n",
            "16      3\n",
            "17      2\n",
            "20      2\n",
            "40      1\n",
            "13      1\n",
            "19      1\n",
            "23      1\n",
            "67      1\n",
            "Name: A11, dtype: int64 \n",
            "\n",
            "f    374\n",
            "t    316\n",
            "Name: A12, dtype: int64 \n",
            "\n",
            "g    625\n",
            "s     57\n",
            "p      8\n",
            "Name: A13, dtype: int64 \n",
            "\n",
            "00000    132\n",
            "00120     35\n",
            "00200     35\n",
            "00160     34\n",
            "00080     30\n",
            "00100     30\n",
            "00280     22\n",
            "00180     18\n",
            "00140     16\n",
            "00240     14\n",
            "00320     14\n",
            "00300     13\n",
            "?         13\n",
            "00260     11\n",
            "00220      9\n",
            "00400      9\n",
            "00060      9\n",
            "00340      7\n",
            "00360      7\n",
            "00380      5\n",
            "00108      4\n",
            "00440      4\n",
            "00040      4\n",
            "00420      4\n",
            "00132      4\n",
            "00232      4\n",
            "00520      4\n",
            "00144      4\n",
            "00070      4\n",
            "00216      3\n",
            "        ... \n",
            "00383      1\n",
            "00141      1\n",
            "00274      1\n",
            "00356      1\n",
            "00231      1\n",
            "00221      1\n",
            "00372      1\n",
            "00395      1\n",
            "00202      1\n",
            "00381      1\n",
            "00431      1\n",
            "00680      1\n",
            "00368      1\n",
            "00465      1\n",
            "00156      1\n",
            "00208      1\n",
            "00094      1\n",
            "00021      1\n",
            "00239      1\n",
            "00410      1\n",
            "00434      1\n",
            "00369      1\n",
            "00840      1\n",
            "00393      1\n",
            "00760      1\n",
            "00170      1\n",
            "00309      1\n",
            "00333      1\n",
            "00224      1\n",
            "00329      1\n",
            "Name: A14, Length: 171, dtype: int64 \n",
            "\n",
            "0        295\n",
            "1         29\n",
            "1000      10\n",
            "500       10\n",
            "2          9\n",
            "5          8\n",
            "300        8\n",
            "6          8\n",
            "3          6\n",
            "200        6\n",
            "100        6\n",
            "4          5\n",
            "50         5\n",
            "150        4\n",
            "7          4\n",
            "10         4\n",
            "3000       4\n",
            "20         4\n",
            "400        3\n",
            "560        3\n",
            "18         3\n",
            "600        3\n",
            "2000       3\n",
            "5000       3\n",
            "4000       3\n",
            "108        2\n",
            "17         2\n",
            "44         2\n",
            "204        2\n",
            "8          2\n",
            "        ... \n",
            "247        1\n",
            "1270       1\n",
            "396        1\n",
            "4500       1\n",
            "1430       1\n",
            "1442       1\n",
            "591        1\n",
            "587        1\n",
            "9800       1\n",
            "582        1\n",
            "1391       1\n",
            "1602       1\n",
            "567        1\n",
            "31285      1\n",
            "1583       1\n",
            "6700       1\n",
            "551        1\n",
            "537        1\n",
            "4607       1\n",
            "501        1\n",
            "484        1\n",
            "3552       1\n",
            "475        1\n",
            "2510       1\n",
            "458        1\n",
            "2503       1\n",
            "6590       1\n",
            "1465       1\n",
            "5552       1\n",
            "283        1\n",
            "Name: A15, Length: 240, dtype: int64 \n",
            "\n",
            "-    383\n",
            "+    307\n",
            "Name: A16, dtype: int64 \n",
            "\n"
          ],
          "name": "stdout"
        },
        {
          "output_type": "execute_result",
          "data": {
            "text/plain": [
              "'looking throught the data i can see that there are question marks through out the dataset,\\nI think its ok to leave most of them the way they are but I will be replacing the question marks in A2'"
            ]
          },
          "metadata": {
            "tags": []
          },
          "execution_count": 73
        }
      ]
    },
    {
      "cell_type": "code",
      "metadata": {
        "id": "AeNtETHXe-r8",
        "colab_type": "code",
        "colab": {}
      },
      "source": [
        "#Replacing ? with Nan \n",
        "df['A2']= df['A2'].replace({'?':np.NaN})\n",
        "df['A14']= df['A14'].replace({'?':np.NaN})"
      ],
      "execution_count": 0,
      "outputs": []
    },
    {
      "cell_type": "code",
      "metadata": {
        "id": "krbwp6Ebij_x",
        "colab_type": "code",
        "colab": {}
      },
      "source": [
        "# then changing the type to numeric\n",
        "df['A2'] = pd.to_numeric(df['A2'])\n",
        "df['A14'] = pd.to_numeric(df['A14'])"
      ],
      "execution_count": 0,
      "outputs": []
    },
    {
      "cell_type": "code",
      "metadata": {
        "id": "dfI9Qs5EgLEe",
        "colab_type": "code",
        "outputId": "cea4ab19-c3c3-45b0-c7eb-07e36c06d757",
        "colab": {
          "base_uri": "https://localhost:8080/",
          "height": 306
        }
      },
      "source": [
        "# all columns now should be their respected types\n",
        "df.dtypes"
      ],
      "execution_count": 0,
      "outputs": [
        {
          "output_type": "execute_result",
          "data": {
            "text/plain": [
              "A1      object\n",
              "A2     float64\n",
              "A3     float64\n",
              "A4      object\n",
              "A5      object\n",
              "A6      object\n",
              "A7      object\n",
              "A8     float64\n",
              "A9      object\n",
              "A10     object\n",
              "A11      int64\n",
              "A12     object\n",
              "A13     object\n",
              "A14    float64\n",
              "A15      int64\n",
              "A16     object\n",
              "dtype: object"
            ]
          },
          "metadata": {
            "tags": []
          },
          "execution_count": 83
        }
      ]
    },
    {
      "cell_type": "markdown",
      "metadata": {
        "id": "G7rLytbrO38L",
        "colab_type": "text"
      },
      "source": [
        "## Part 2 - Exploring data, Testing hypotheses\n",
        "\n",
        "The only thing we really know about this data is that A16 is the class label. Besides that, we have 6 continuous (float) features and 9 categorical features.\n",
        "\n",
        "Explore the data: you can use whatever approach (tables, utility functions, visualizations) to get an impression of the distributions and relationships of the variables. In general, your goal is to understand how the features are different when grouped by the two class labels (`+` and `-`).\n",
        "\n",
        "For the 6 continuous features, how are they different when split between the two class labels? Choose two features to run t-tests (again split by class label) - specifically, select one feature that is *extremely* different between the classes, and another feature that is notably less different (though perhaps still \"statistically significantly\" different). You may have to explore more than two features to do this.\n",
        "\n",
        "For the categorical features, explore by creating \"cross tabs\" (aka [contingency tables](https://en.wikipedia.org/wiki/Contingency_table)) between them and the class label, and apply the Chi-squared test to them. [pandas.crosstab](http://pandas.pydata.org/pandas-docs/stable/reference/api/pandas.crosstab.html) can create contingency tables, and [scipy.stats.chi2_contingency](https://docs.scipy.org/doc/scipy/reference/generated/scipy.stats.chi2_contingency.html) can calculate the Chi-squared statistic for them.\n",
        "\n",
        "There are 9 categorical features - as with the t-test, try to find one where the Chi-squared test returns an extreme result (rejecting the null that the data are independent), and one where it is less extreme.\n",
        "\n",
        "**NOTE** - \"less extreme\" just means smaller test statistic/larger p-value. Even the least extreme differences may be strongly statistically significant.\n",
        "\n",
        "Your *main* goal is the hypothesis tests, so don't spend too much time on the exploration/visualization piece. That is just a means to an end - use simple visualizations, such as boxplots or a scatter matrix (both built in to pandas), to get a feel for the overall distribution of the variables.\n",
        "\n",
        "This is challenging, so manage your time and aim for a baseline of at least running two t-tests and two Chi-squared tests before polishing. And don't forget to answer the questions in part 3, even if your results in this part aren't what you want them to be."
      ]
    },
    {
      "cell_type": "code",
      "metadata": {
        "id": "jnoCXXqWlQRD",
        "colab_type": "code",
        "colab": {}
      },
      "source": [
        "#EXPLOR DATA\n",
        "# FOR NUMERICAL USE T-TEST AND CHI SQUARE\n",
        "# FOR CATAGORICAL USE CROSS TABLE "
      ],
      "execution_count": 0,
      "outputs": []
    },
    {
      "cell_type": "code",
      "metadata": {
        "id": "_nqcgc0yzm68",
        "colab_type": "code",
        "colab": {}
      },
      "source": [
        "# splitting data between plus and minus\n",
        "plus = df[df['A16'] == \"+\"]\n",
        "minus = df[df['A16'] == \"-\"]\n"
      ],
      "execution_count": 0,
      "outputs": []
    },
    {
      "cell_type": "code",
      "metadata": {
        "id": "a62wCMOGlwVZ",
        "colab_type": "code",
        "outputId": "a054f3d3-1c82-4a1a-f641-6aacf3486c0f",
        "colab": {
          "base_uri": "https://localhost:8080/",
          "height": 136
        }
      },
      "source": [
        "plus.mean() # checking means"
      ],
      "execution_count": 0,
      "outputs": [
        {
          "output_type": "execute_result",
          "data": {
            "text/plain": [
              "A2       33.720492\n",
              "A3        5.904951\n",
              "A8        3.427899\n",
              "A11       4.605863\n",
              "A14     164.421927\n",
              "A15    2038.859935\n",
              "dtype: float64"
            ]
          },
          "metadata": {
            "tags": []
          },
          "execution_count": 93
        }
      ]
    },
    {
      "cell_type": "code",
      "metadata": {
        "id": "JhfT7RDxmbGi",
        "colab_type": "code",
        "outputId": "d98bb9db-3ef3-4fa4-da76-5c1733fd605b",
        "colab": {
          "base_uri": "https://localhost:8080/",
          "height": 136
        }
      },
      "source": [
        "minus.mean()"
      ],
      "execution_count": 0,
      "outputs": [
        {
          "output_type": "execute_result",
          "data": {
            "text/plain": [
              "A2      29.808231\n",
              "A3       3.839948\n",
              "A8       1.257924\n",
              "A11      0.631854\n",
              "A14    199.699468\n",
              "A15    198.605744\n",
              "dtype: float64"
            ]
          },
          "metadata": {
            "tags": []
          },
          "execution_count": 94
        }
      ]
    },
    {
      "cell_type": "markdown",
      "metadata": {
        "id": "w_X1XoJMoFdI",
        "colab_type": "text"
      },
      "source": [
        "The minus group have lower values than the plus group in all numerical columns. \n",
        "\n",
        "I will check how many null values eact group has"
      ]
    },
    {
      "cell_type": "code",
      "metadata": {
        "id": "jMXhBVWXmiWn",
        "colab_type": "code",
        "outputId": "b8afadb7-98f9-4947-9918-627eaaacff17",
        "colab": {
          "base_uri": "https://localhost:8080/",
          "height": 306
        }
      },
      "source": [
        "plus.isnull().sum()"
      ],
      "execution_count": 0,
      "outputs": [
        {
          "output_type": "execute_result",
          "data": {
            "text/plain": [
              "A1     0\n",
              "A2     2\n",
              "A3     0\n",
              "A4     0\n",
              "A5     0\n",
              "A6     0\n",
              "A7     0\n",
              "A8     0\n",
              "A9     0\n",
              "A10    0\n",
              "A11    0\n",
              "A12    0\n",
              "A13    0\n",
              "A14    6\n",
              "A15    0\n",
              "A16    0\n",
              "dtype: int64"
            ]
          },
          "metadata": {
            "tags": []
          },
          "execution_count": 99
        }
      ]
    },
    {
      "cell_type": "code",
      "metadata": {
        "id": "KTnQcUC7oUbw",
        "colab_type": "code",
        "outputId": "641bf1a7-03ef-4d06-d3c2-8a3cd6a4df50",
        "colab": {
          "base_uri": "https://localhost:8080/",
          "height": 306
        }
      },
      "source": [
        "minus.isnull().sum()\n",
        "# it seems that there is not much of a diffrence overall when it comes to missing values"
      ],
      "execution_count": 0,
      "outputs": [
        {
          "output_type": "execute_result",
          "data": {
            "text/plain": [
              "A1      0\n",
              "A2     10\n",
              "A3      0\n",
              "A4      0\n",
              "A5      0\n",
              "A6      0\n",
              "A7      0\n",
              "A8      0\n",
              "A9      0\n",
              "A10     0\n",
              "A11     0\n",
              "A12     0\n",
              "A13     0\n",
              "A14     7\n",
              "A15     0\n",
              "A16     0\n",
              "dtype: int64"
            ]
          },
          "metadata": {
            "tags": []
          },
          "execution_count": 100
        }
      ]
    },
    {
      "cell_type": "code",
      "metadata": {
        "id": "-T1PZdHqohRw",
        "colab_type": "code",
        "outputId": "56d05223-ca79-4751-c8a7-e89e3e8189fd",
        "colab": {
          "base_uri": "https://localhost:8080/",
          "height": 34
        }
      },
      "source": [
        "# A2 T-TEST\n",
        "\n",
        "ttest_ind(plus['A2'], minus['A2'],\n",
        "          nan_policy='omit')\n"
      ],
      "execution_count": 0,
      "outputs": [
        {
          "output_type": "execute_result",
          "data": {
            "text/plain": [
              "Ttest_indResult(statistic=4.2922156166315535, pvalue=2.0276637071781407e-05)"
            ]
          },
          "metadata": {
            "tags": []
          },
          "execution_count": 139
        }
      ]
    },
    {
      "cell_type": "code",
      "metadata": {
        "id": "dejSN3Nkqw-B",
        "colab_type": "code",
        "outputId": "3470fb1f-6f7f-42a3-9ef4-459091a31801",
        "colab": {
          "base_uri": "https://localhost:8080/",
          "height": 34
        }
      },
      "source": [
        "# A15 T-TEST\n",
        "\n",
        "ttest_ind(plus['A15'], minus['A15'],\n",
        "          nan_policy='omit')"
      ],
      "execution_count": 0,
      "outputs": [
        {
          "output_type": "execute_result",
          "data": {
            "text/plain": [
              "Ttest_indResult(statistic=4.680216020964486, pvalue=3.4520256956287944e-06)"
            ]
          },
          "metadata": {
            "tags": []
          },
          "execution_count": 121
        }
      ]
    },
    {
      "cell_type": "code",
      "metadata": {
        "id": "_huJ14oa8VGR",
        "colab_type": "code",
        "colab": {}
      },
      "source": [
        "# function to do a ttest for each numerical cloumn\n",
        "\n",
        "def ttest_tester(x,y):\n",
        "  num_com = ['A2','A3','A8','A11','A14','A15']\n",
        "  for i in num_com:\n",
        "    print(ttest_ind(x[i], y[i],\n",
        "          nan_policy='omit'))\n",
        "    "
      ],
      "execution_count": 0,
      "outputs": []
    },
    {
      "cell_type": "code",
      "metadata": {
        "id": "bV4uUM4o8mL3",
        "colab_type": "code",
        "outputId": "276ddbe1-b439-45d3-ccfe-0bbe637c248d",
        "colab": {
          "base_uri": "https://localhost:8080/",
          "height": 119
        }
      },
      "source": [
        "ttest_tester(plus, minus)"
      ],
      "execution_count": 0,
      "outputs": [
        {
          "output_type": "stream",
          "text": [
            "Ttest_indResult(statistic=4.2922156166315535, pvalue=2.0276637071781407e-05)\n",
            "Ttest_indResult(statistic=5.52998337614816, pvalue=4.551680702308068e-08)\n",
            "Ttest_indResult(statistic=8.935819983773698, pvalue=3.6710537401601785e-18)\n",
            "Ttest_indResult(statistic=11.667004222431277, pvalue=7.957718568079967e-29)\n",
            "Ttest_indResult(statistic=-2.6358251986645476, pvalue=0.008586135473979569)\n",
            "Ttest_indResult(statistic=4.680216020964486, pvalue=3.4520256956287944e-06)\n"
          ],
          "name": "stdout"
        }
      ]
    },
    {
      "cell_type": "code",
      "metadata": {
        "id": "gvy0bDZmrdSp",
        "colab_type": "code",
        "outputId": "3a17c408-ea94-4e58-839b-6939641a66c4",
        "colab": {
          "base_uri": "https://localhost:8080/",
          "height": 142
        }
      },
      "source": [
        "# A9 CROSS-TABLE\n",
        "\n",
        "A9_cross_tab =pd.crosstab(df['A16'], df['A9'])\n",
        "A9_cross_tab"
      ],
      "execution_count": 0,
      "outputs": [
        {
          "output_type": "execute_result",
          "data": {
            "text/html": [
              "<div>\n",
              "<style scoped>\n",
              "    .dataframe tbody tr th:only-of-type {\n",
              "        vertical-align: middle;\n",
              "    }\n",
              "\n",
              "    .dataframe tbody tr th {\n",
              "        vertical-align: top;\n",
              "    }\n",
              "\n",
              "    .dataframe thead th {\n",
              "        text-align: right;\n",
              "    }\n",
              "</style>\n",
              "<table border=\"1\" class=\"dataframe\">\n",
              "  <thead>\n",
              "    <tr style=\"text-align: right;\">\n",
              "      <th>A9</th>\n",
              "      <th>f</th>\n",
              "      <th>t</th>\n",
              "    </tr>\n",
              "    <tr>\n",
              "      <th>A16</th>\n",
              "      <th></th>\n",
              "      <th></th>\n",
              "    </tr>\n",
              "  </thead>\n",
              "  <tbody>\n",
              "    <tr>\n",
              "      <th>+</th>\n",
              "      <td>23</td>\n",
              "      <td>284</td>\n",
              "    </tr>\n",
              "    <tr>\n",
              "      <th>-</th>\n",
              "      <td>306</td>\n",
              "      <td>77</td>\n",
              "    </tr>\n",
              "  </tbody>\n",
              "</table>\n",
              "</div>"
            ],
            "text/plain": [
              "A9     f    t\n",
              "A16          \n",
              "+     23  284\n",
              "-    306   77"
            ]
          },
          "metadata": {
            "tags": []
          },
          "execution_count": 113
        }
      ]
    },
    {
      "cell_type": "code",
      "metadata": {
        "id": "lT70lheFtLJI",
        "colab_type": "code",
        "outputId": "30589769-d056-4d41-9870-c3b2a3da3fd6",
        "colab": {
          "base_uri": "https://localhost:8080/",
          "height": 102
        }
      },
      "source": [
        "# A9 CHI TEST\n",
        "chi_squared_A9,pvalue_A9,dof_A9,expected_A9 = stats.chi2_contingency(A9_cross_tab)\n",
        "print(chi_squared_A9)\n",
        "print(pvalue_A9)\n",
        "print(dof_A9)\n",
        "print(expected_A9)"
      ],
      "execution_count": 0,
      "outputs": [
        {
          "output_type": "stream",
          "text": [
            "355.2038167412799\n",
            "3.1185900878457007e-79\n",
            "1\n",
            "[[146.38115942 160.61884058]\n",
            " [182.61884058 200.38115942]]\n"
          ],
          "name": "stdout"
        }
      ]
    },
    {
      "cell_type": "code",
      "metadata": {
        "id": "gVTR02AAvpjU",
        "colab_type": "code",
        "outputId": "d54fda7d-495e-4f03-99d6-4987a9044451",
        "colab": {
          "base_uri": "https://localhost:8080/",
          "height": 142
        }
      },
      "source": [
        "# A9 CROSS TABLE\n",
        "A10_cross_tab =pd.crosstab(df['A16'], df['A10'])\n",
        "A10_cross_tab"
      ],
      "execution_count": 0,
      "outputs": [
        {
          "output_type": "execute_result",
          "data": {
            "text/html": [
              "<div>\n",
              "<style scoped>\n",
              "    .dataframe tbody tr th:only-of-type {\n",
              "        vertical-align: middle;\n",
              "    }\n",
              "\n",
              "    .dataframe tbody tr th {\n",
              "        vertical-align: top;\n",
              "    }\n",
              "\n",
              "    .dataframe thead th {\n",
              "        text-align: right;\n",
              "    }\n",
              "</style>\n",
              "<table border=\"1\" class=\"dataframe\">\n",
              "  <thead>\n",
              "    <tr style=\"text-align: right;\">\n",
              "      <th>A10</th>\n",
              "      <th>f</th>\n",
              "      <th>t</th>\n",
              "    </tr>\n",
              "    <tr>\n",
              "      <th>A16</th>\n",
              "      <th></th>\n",
              "      <th></th>\n",
              "    </tr>\n",
              "  </thead>\n",
              "  <tbody>\n",
              "    <tr>\n",
              "      <th>+</th>\n",
              "      <td>98</td>\n",
              "      <td>209</td>\n",
              "    </tr>\n",
              "    <tr>\n",
              "      <th>-</th>\n",
              "      <td>297</td>\n",
              "      <td>86</td>\n",
              "    </tr>\n",
              "  </tbody>\n",
              "</table>\n",
              "</div>"
            ],
            "text/plain": [
              "A10    f    t\n",
              "A16          \n",
              "+     98  209\n",
              "-    297   86"
            ]
          },
          "metadata": {
            "tags": []
          },
          "execution_count": 117
        }
      ]
    },
    {
      "cell_type": "code",
      "metadata": {
        "id": "FiAdavi-wZDp",
        "colab_type": "code",
        "outputId": "9baeb2ed-1c92-4ff7-ee10-a9d09d25f5fd",
        "colab": {
          "base_uri": "https://localhost:8080/",
          "height": 102
        }
      },
      "source": [
        "# A10 CHI TEST\n",
        "\n",
        "chi_squared_A10,pvalue_A10,dof_A10,expected_A10 = stats.chi2_contingency(A10_cross_tab)\n",
        "print(chi_squared_A10)\n",
        "print(pvalue_A10)\n",
        "print(dof_A10)\n",
        "print(expected_A10)"
      ],
      "execution_count": 0,
      "outputs": [
        {
          "output_type": "stream",
          "text": [
            "143.06956205083145\n",
            "5.675727374527571e-33\n",
            "1\n",
            "[[175.74637681 131.25362319]\n",
            " [219.25362319 163.74637681]]\n"
          ],
          "name": "stdout"
        }
      ]
    },
    {
      "cell_type": "markdown",
      "metadata": {
        "id": "ZM8JckA2bgnp",
        "colab_type": "text"
      },
      "source": [
        "## Part 3 - Analysis and Interpretation\n",
        "\n",
        "Now that you've looked at the data, answer the following questions:\n",
        "\n",
        "- Interpret and explain the two t-tests you ran - what do they tell you about the relationships between the continuous features you selected and the class labels?\n",
        "- Interpret and explain the two Chi-squared tests you ran - what do they tell you about the relationships between the categorical features you selected and the class labels?\n",
        "- What was the most challenging part of this sprint challenge?\n",
        "\n",
        "Answer with text, but feel free to intersperse example code/results or refer to it from earlier."
      ]
    },
    {
      "cell_type": "markdown",
      "metadata": {
        "id": "LIozLDNG2Uhu",
        "colab_type": "text"
      },
      "source": [
        "\n",
        "\n",
        "# T-test\n",
        "the Ttest for A2 showed that the graph skewed a little bit to the right and had a low p-value meaning that the result wasnt random. the ttest came out as (+4) showing that there wasnt much diffrence in both groups mean for A2. The plus group had a higher mean than the minus group but only slightly and the minus group had more null values, here we can just about reject the null Hypothesis that both groups would be the same because. If the minus group had less missing values maybe the null  Hypothesis would be right.\n",
        "\n",
        "\n",
        "The ttest for A15 was suprising to me. I picked the A15 because that's where both groups means differed the most. The test came out with the same results as the first ttest, with +4  as the ttest result and <0.05 as the pvalue. What I took from this result was the that there was not much diffrence between each groups mean but looking at both thier means sepratly I see a big diffrence so...\n",
        "\n",
        "\n",
        "\n",
        "# Chi squared\n",
        "I decided to do a chi squared test on 2 columns that had the same the same characters too see if they would have similar scores. \n",
        "\n",
        "The A9 chi square test came out high at 355 showing that there is no relationship between the groups (f/t)\n",
        "\n",
        "similarly with the A10 chi square test; it also had a high score but not much so as A9\n",
        "\n",
        "\n",
        "\n",
        "# Challenge\n",
        "I think the hardest aspect was looking at the data and deciding what to do with it. How much work I should put in, its very easy to get lost.\n",
        "\n"
      ]
    }
  ]
}